{
  "nbformat": 4,
  "nbformat_minor": 0,
  "metadata": {
    "colab": {
      "name": "0509.ipynb",
      "provenance": [],
      "authorship_tag": "ABX9TyN9VcLc8AtYif04TYsDlHgq",
      "include_colab_link": true
    },
    "kernelspec": {
      "name": "python3",
      "display_name": "Python 3"
    },
    "language_info": {
      "name": "python"
    }
  },
  "cells": [
    {
      "cell_type": "markdown",
      "metadata": {
        "id": "view-in-github",
        "colab_type": "text"
      },
      "source": [
        "<a href=\"https://colab.research.google.com/github/ppppdu/Introduction-to-Computers/blob/main/0509.ipynb\" target=\"_parent\"><img src=\"https://colab.research.google.com/assets/colab-badge.svg\" alt=\"Open In Colab\"/></a>"
      ]
    },
    {
      "cell_type": "code",
      "execution_count": 1,
      "metadata": {
        "colab": {
          "base_uri": "https://localhost:8080/"
        },
        "id": "WY2Y-Q6G4CQy",
        "outputId": "371a782f-8d93-4337-fd3c-0f1430127c14"
      },
      "outputs": [
        {
          "output_type": "execute_result",
          "data": {
            "text/plain": [
              "1"
            ]
          },
          "metadata": {},
          "execution_count": 1
        }
      ],
      "source": [
        "1"
      ]
    },
    {
      "cell_type": "code",
      "source": [
        "temp = float(input(\"請輸入你的體溫\"))\n",
        "if temp>=37.5:\n",
        "  print('體溫過高!')\n",
        "elif temp>=37 and temp <37.4:\n",
        "  print('體溫略高!')\n",
        "elif temp>=34 and temp <36.9:\n",
        "  print('體溫正常!')\n",
        "\n",
        "\n",
        "else:\n",
        "  print('體溫異常，請重新量測!')"
      ],
      "metadata": {
        "colab": {
          "base_uri": "https://localhost:8080/"
        },
        "id": "eDIK5YH_70qL",
        "outputId": "fbb9409d-3e74-4190-d555-7f7eba8ac5c3"
      },
      "execution_count": 6,
      "outputs": [
        {
          "output_type": "stream",
          "name": "stdout",
          "text": [
            "請輸入你的體溫36.5\n",
            "體溫正常!\n"
          ]
        }
      ]
    },
    {
      "cell_type": "code",
      "source": [
        "score = input(\"請輸入成績\")\n",
        "if (int(score) >= 90):\n",
        "  print('A')\n",
        "elif (int(score) >= 80):\n",
        "  print('B')\n",
        "elif (int(score) >= 70):\n",
        "  print('C')\n",
        "elif (int(score) >= 60):\n",
        "  print('D')\n",
        "\n",
        "else:\n",
        "  print('E')"
      ],
      "metadata": {
        "colab": {
          "base_uri": "https://localhost:8080/"
        },
        "id": "ddnxIIMk_haH",
        "outputId": "52588e3c-e828-48c4-db32-dca5603ef97f"
      },
      "execution_count": 18,
      "outputs": [
        {
          "output_type": "stream",
          "name": "stdout",
          "text": [
            "請輸入成績75\n",
            "C\n"
          ]
        }
      ]
    },
    {
      "cell_type": "code",
      "source": [
        "money = int(input('請出入購物金額:'))\n",
        "if(money >= 10000):\n",
        "  if(money>=100000):\n",
        "    print('八折',money*0.8,end='元\\n')\n",
        "  elif(money>=50000):\n",
        "    print('八五折',money*0.85,end='元\\n')\n",
        "  elif(money>=30000):\n",
        "    print('九折',money*0.9,end='元\\n')\n",
        "  else:\n",
        "    print('九五折',money*0.95,end='元\\n')\n",
        "else:\n",
        "  print('沒打折',money,end=\"元\\n\")"
      ],
      "metadata": {
        "colab": {
          "base_uri": "https://localhost:8080/"
        },
        "id": "kui8bNt0BkR1",
        "outputId": "a308f807-0958-443f-a161-45b92e49dfca"
      },
      "execution_count": 23,
      "outputs": [
        {
          "output_type": "stream",
          "name": "stdout",
          "text": [
            "請出入購物金額:100\n",
            "沒打折 100元\n"
          ]
        }
      ]
    },
    {
      "cell_type": "code",
      "source": [
        "month = int(input('請出入月份:'))\n",
        "if(month == 3 or month == 4 or month == 5):\n",
        "  print(month,'月是春天!',sep = '')\n",
        "elif(month == 6 or month == 7 or month == 8):\n",
        "  print(month,'月是夏天!',sep = '')\n",
        "elif(month == 9 or month == 10 or month == 11):\n",
        "  print(month,'月是秋天!',sep = '')\n",
        "elif(month == 12 or month == 1 or month == 2):\n",
        "  print(month,'月是冬天!',sep = '')\n",
        "else:\n",
        "  print('月份不再範圍內!')"
      ],
      "metadata": {
        "colab": {
          "base_uri": "https://localhost:8080/"
        },
        "id": "0hz6Z2UqCP7e",
        "outputId": "8f72f7cf-9c92-428d-ddb1-e6d0045e601d"
      },
      "execution_count": 34,
      "outputs": [
        {
          "output_type": "stream",
          "name": "stdout",
          "text": [
            "請出入月份:12\n",
            "12月是冬天!\n"
          ]
        }
      ]
    },
    {
      "cell_type": "code",
      "source": [
        "earning = int(input('請出入今年收入淨額:'))\n",
        "\n",
        "if(earning>=2000000):\n",
        "  print('付稅金額:',earning*0.3,end='元\\n')\n",
        "elif(earning>=1000000):\n",
        "  print('付稅金額:',earning*0.21,end='元\\n')\n",
        "elif(earning>=600000):\n",
        "  print('付稅金額:',earning*0.13,end='元\\n')\n",
        "elif(earning>=300000):\n",
        "  print('付稅金額:',earning*0.06,end='元\\n')\n",
        "else:\n",
        "  print('付稅金額:',0,\"元\\n\")"
      ],
      "metadata": {
        "colab": {
          "base_uri": "https://localhost:8080/"
        },
        "id": "ioZXt31nL16T",
        "outputId": "66692f99-5952-434d-de37-9e18988ed65e"
      },
      "execution_count": 42,
      "outputs": [
        {
          "output_type": "stream",
          "name": "stdout",
          "text": [
            "請出入今年收入淨額:400000\n",
            "付稅金額: 24000.0元\n"
          ]
        }
      ]
    }
  ]
}